{
  "nbformat": 4,
  "nbformat_minor": 0,
  "metadata": {
    "colab": {
      "provenance": []
    },
    "kernelspec": {
      "name": "python3",
      "display_name": "Python 3"
    },
    "language_info": {
      "name": "python"
    }
  },
  "cells": [
    {
      "cell_type": "markdown",
      "source": [
        "Soy Isaac cuéllar, voy en quinto semestre y estoy estudiando la carrera deingenieria civil. El dia miercoles 20 de agosto por la mañana, enre 9 y 11 una fuerte lluvia azoto la ciudad de guadalajara, dejando como consecuencia las clasicas inundaciones en diferentes puntos de la ciudad, como lopez mateos, av patria, entre otras."
      ],
      "metadata": {
        "id": "7PdOoBBVUp4l"
      }
    }
  ]
}