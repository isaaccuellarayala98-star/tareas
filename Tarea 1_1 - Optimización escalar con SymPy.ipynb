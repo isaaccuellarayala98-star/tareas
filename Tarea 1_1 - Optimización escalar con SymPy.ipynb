{
 "cells": [
  {
   "cell_type": "markdown",
   "id": "dae16770",
   "metadata": {},
   "source": [
    "# Optimización escalar con SymPy: criterio conocido"
   ]
  },
  {
   "cell_type": "markdown",
   "id": "09ba4558",
   "metadata": {},
   "source": [
    "Para la siguientes funciones encuentre los puntos críticos, grafique y diga si éste se trata de un máximo o mínimo, local o global."
   ]
  },
  {
   "cell_type": "markdown",
   "id": "3600ad24",
   "metadata": {
    "colab_type": "text",
    "id": "rZsQPEsnE-b9"
   },
   "source": [
    "1. $f(x)=x+\\frac{1}{x^2}$"
   ]
  },
  {
   "cell_type": "code",
   "execution_count": null,
   "id": "aa844fa8",
   "metadata": {},
   "outputs": [],
   "source": []
  },
  {
   "cell_type": "markdown",
   "id": "39cfc1dd",
   "metadata": {},
   "source": [
    "2. $f(x)=1260+117x-9x^2$"
   ]
  },
  {
   "cell_type": "code",
   "execution_count": null,
   "id": "75921cf8",
   "metadata": {},
   "outputs": [],
   "source": []
  },
  {
   "cell_type": "markdown",
   "id": "65206d6e",
   "metadata": {},
   "source": [
    "3. $f(x)=5+x+\\frac{4}{x}$, para $x>0$"
   ]
  },
  {
   "cell_type": "code",
   "execution_count": null,
   "id": "bf7f119c",
   "metadata": {},
   "outputs": [],
   "source": []
  },
  {
   "cell_type": "markdown",
   "id": "8fc86115",
   "metadata": {
    "colab_type": "text",
    "id": "WSf2O-FsGYtu"
   },
   "source": [
    "4. $f(x)=\\frac{15x}{2}\\sqrt{\\frac{x}{x-30}}$"
   ]
  },
  {
   "cell_type": "code",
   "execution_count": null,
   "id": "aaeb2835",
   "metadata": {},
   "outputs": [],
   "source": []
  },
  {
   "cell_type": "markdown",
   "id": "bd7f30fd",
   "metadata": {},
   "source": [
    "5. $f(x)=6-2x+\\sqrt{18-2x^2}$, para $-3\\leq x\\leq 3$"
   ]
  },
  {
   "cell_type": "code",
   "execution_count": null,
   "id": "1d255e07",
   "metadata": {},
   "outputs": [],
   "source": []
  },
  {
   "cell_type": "markdown",
   "id": "de2ea1f9",
   "metadata": {},
   "source": [
    "6. $f(x)=\\frac{1}{4}x^4+\\frac{1}{3}x^3-x^2$ en el intervalo $[-3,1.7]$"
   ]
  },
  {
   "cell_type": "code",
   "execution_count": null,
   "id": "084657cf",
   "metadata": {},
   "outputs": [],
   "source": []
  },
  {
   "cell_type": "markdown",
   "id": "4fdfe534",
   "metadata": {},
   "source": [
    "7. $f(x)=100(1+\\cos(x)\\sin(x))$, para $x\\in[0.\\frac{\\pi}{2}]$"
   ]
  },
  {
   "cell_type": "code",
   "execution_count": null,
   "id": "354e304b",
   "metadata": {},
   "outputs": [],
   "source": []
  }
 ],
 "metadata": {
  "kernelspec": {
   "display_name": "Python 3",
   "language": "python",
   "name": "python3"
  },
  "language_info": {
   "codemirror_mode": {
    "name": "ipython",
    "version": 3
   },
   "file_extension": ".py",
   "mimetype": "text/x-python",
   "name": "python",
   "nbconvert_exporter": "python",
   "pygments_lexer": "ipython3",
   "version": "3.8.8"
  }
 },
 "nbformat": 4,
 "nbformat_minor": 5
}
